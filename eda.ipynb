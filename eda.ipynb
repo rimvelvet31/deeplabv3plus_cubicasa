{
 "cells": [
  {
   "cell_type": "code",
   "execution_count": null,
   "metadata": {},
   "outputs": [],
   "source": [
    "import numpy as np\n",
    "import matplotlib.pyplot as plt\n",
    "\n",
    "from floortrans.loaders import FloorplanSVG\n",
    "from floortrans.loaders.augmentations import (RandomCropToSizeTorch,\n",
    "                                              ResizePaddedTorch,\n",
    "                                              Compose,\n",
    "                                              DictToTensor,\n",
    "                                              ColorJitterTorch,\n",
    "                                              RandomRotations)\n",
    "\n",
    "from torchinfo import summary\n",
    "\n",
    "from model.deeplabv3plus import DeepLabV3Plus"
   ]
  },
  {
   "cell_type": "markdown",
   "metadata": {},
   "source": [
    "# Loading the Data"
   ]
  },
  {
   "cell_type": "code",
   "execution_count": null,
   "metadata": {},
   "outputs": [],
   "source": [
    "DATA_PATH = 'data/cubicasa5k/'\n",
    "TRAIN_PATH = 'train.txt'\n",
    "VAL_PATH = 'val.txt'\n",
    "\n",
    "aug = Compose([\n",
    "    ResizePaddedTorch((0, 0), data_format='dict', size=(512, 512)),\n",
    "    DictToTensor()\n",
    "])\n",
    "\n",
    "train_data = FloorplanSVG(DATA_PATH, TRAIN_PATH, augmentations=aug, format='lmdb')"
   ]
  },
  {
   "cell_type": "code",
   "execution_count": null,
   "metadata": {},
   "outputs": [],
   "source": [
    "print('Image Shape:', train_data[0]['image'].shape)\n",
    "print('Label Shape:', train_data[0]['label'].shape)\n"
   ]
  },
  {
   "cell_type": "markdown",
   "metadata": {},
   "source": [
    "# Visualizing Samples"
   ]
  },
  {
   "cell_type": "code",
   "execution_count": null,
   "metadata": {},
   "outputs": [],
   "source": [
    "sample = train_data[10]\n",
    "\n",
    "# Convert back to [0, 255] range\n",
    "tensor_image = sample['image'] * 255.0\n",
    "\n",
    "np_image = tensor_image.numpy().astype(np.uint8)  # Convert to unsigned 8-bit integer\n",
    "\n",
    "# Transpose to [H, W, 3] from [3, H, W]\n",
    "np_image = np.transpose(np_image, (1, 2, 0))\n",
    "\n",
    "# Create figure with 1 row and 3 columns for the first set of visualizations\n",
    "fig, axes = plt.subplots(1, 3, figsize=(15, 8))\n",
    "\n",
    "# Input image\n",
    "axes[0].imshow(np_image)\n",
    "axes[0].axis('off')\n",
    "axes[0].set_title('Input Image')\n",
    "\n",
    "# Room segmentation map\n",
    "axes[1].imshow(np_image)\n",
    "axes[1].imshow(sample['label'][21], alpha=0.8)\n",
    "axes[1].axis('off')\n",
    "axes[1].set_title('Room Labels')\n",
    "\n",
    "# Icon segmentation map\n",
    "axes[2].imshow(np_image)\n",
    "axes[2].imshow(sample['label'][22], alpha=0.8)\n",
    "axes[2].axis('off')\n",
    "axes[2].set_title('Icon Labels')\n",
    "\n",
    "plt.tight_layout()\n",
    "plt.show()\n",
    "\n",
    "# Now display the heatmaps, 3 heatmaps per row\n",
    "num_heatmaps = 21\n",
    "cols = 3\n",
    "rows = (num_heatmaps + cols - 1) // cols  # Calculate number of rows needed\n",
    "\n",
    "fig, axes = plt.subplots(rows, cols, figsize=(10, 3 * rows))\n",
    "\n",
    "for i in range(num_heatmaps):\n",
    "    row = i // cols\n",
    "    col = i % cols\n",
    "\n",
    "    axes[row, col].imshow(np_image)\n",
    "    axes[row, col].imshow(sample['label'][i], alpha=0.8)\n",
    "    axes[row, col].axis('off')\n",
    "    axes[row, col].set_title(f'Heatmap {i+1}')\n",
    "\n",
    "# If there are empty spaces in the last row (if heatmaps < total subplots), hide them\n",
    "for j in range(i + 1, rows * cols):\n",
    "    fig.delaxes(axes[j // cols, j % cols])  # Remove unused subplots\n",
    "\n",
    "plt.tight_layout()\n",
    "plt.show()\n"
   ]
  },
  {
   "cell_type": "code",
   "execution_count": 1,
   "metadata": {},
   "outputs": [
    {
     "data": {
      "text/plain": [
       "==============================================================================================================\n",
       "Layer (type:depth-idx)                                       Output Shape              Param #\n",
       "==============================================================================================================\n",
       "DeepLabV3Plus                                                [16, 12, 256, 256]        --\n",
       "├─Backbone: 1-1                                              [16, 24, 64, 64]          --\n",
       "│    └─MobileNetV2: 2-1                                      --                        1,281,000\n",
       "│    │    └─Sequential: 3-1                                  --                        2,223,872\n",
       "├─ASPP: 1-2                                                  [16, 256, 8, 8]           --\n",
       "│    └─Conv2d: 2-2                                           [16, 256, 8, 8]           327,680\n",
       "│    └─AtrousConv: 2-3                                       [16, 256, 8, 8]           --\n",
       "│    │    └─DepthwiseSeparableConv: 3-2                      [16, 256, 8, 8]           339,712\n",
       "│    └─AtrousConv: 2-4                                       [16, 256, 8, 8]           --\n",
       "│    │    └─DepthwiseSeparableConv: 3-3                      [16, 256, 8, 8]           339,712\n",
       "│    └─AtrousConv: 2-5                                       [16, 256, 8, 8]           --\n",
       "│    │    └─DepthwiseSeparableConv: 3-4                      [16, 256, 8, 8]           339,712\n",
       "│    └─Sequential: 2-6                                       [16, 256, 1, 1]           --\n",
       "│    │    └─AdaptiveAvgPool2d: 3-5                           [16, 1280, 1, 1]          --\n",
       "│    │    └─Conv2d: 3-6                                      [16, 256, 1, 1]           327,680\n",
       "│    │    └─BatchNorm2d: 3-7                                 [16, 256, 1, 1]           512\n",
       "│    │    └─ReLU: 3-8                                        [16, 256, 1, 1]           --\n",
       "│    └─Sequential: 2-7                                       [16, 256, 8, 8]           --\n",
       "│    │    └─Conv2d: 3-9                                      [16, 256, 8, 8]           327,680\n",
       "│    │    └─BatchNorm2d: 3-10                                [16, 256, 8, 8]           512\n",
       "│    │    └─ReLU: 3-11                                       [16, 256, 8, 8]           --\n",
       "├─Decoder: 1-3                                               [16, 12, 256, 256]        --\n",
       "│    └─Sequential: 2-8                                       [16, 48, 64, 64]          --\n",
       "│    │    └─Conv2d: 3-12                                     [16, 48, 64, 64]          1,152\n",
       "│    │    └─BatchNorm2d: 3-13                                [16, 48, 64, 64]          96\n",
       "│    │    └─ReLU: 3-14                                       [16, 48, 64, 64]          --\n",
       "│    └─Sequential: 2-9                                       [16, 256, 64, 64]         --\n",
       "│    │    └─DepthwiseSeparableConv: 3-15                     [16, 256, 64, 64]         81,072\n",
       "│    │    └─DepthwiseSeparableConv: 3-16                     [16, 256, 64, 64]         68,352\n",
       "│    └─Conv2d: 2-10                                          [16, 12, 64, 64]          3,084\n",
       "│    └─Conv2d: 2-11                                          [16, 11, 64, 64]          2,827\n",
       "│    └─Conv2d: 2-12                                          [16, 21, 64, 64]          5,397\n",
       "==============================================================================================================\n",
       "Total params: 5,670,052\n",
       "Trainable params: 5,670,052\n",
       "Non-trainable params: 0\n",
       "Total mult-adds (Units.GIGABYTES): 18.52\n",
       "==============================================================================================================\n",
       "Input size (MB): 12.58\n",
       "Forward/backward pass size (MB): 3187.21\n",
       "Params size (MB): 17.56\n",
       "Estimated Total Size (MB): 3217.35\n",
       "=============================================================================================================="
      ]
     },
     "execution_count": 1,
     "metadata": {},
     "output_type": "execute_result"
    }
   ],
   "source": [
    "from model.deeplabv3plus import DeepLabV3Plus\n",
    "from torchinfo import summary\n",
    "\n",
    "model = DeepLabV3Plus(backbone='mobilenet_v2', attention=False).to('cuda')\n",
    "\n",
    "summary(model, input_size=(16, 3, 256, 256), device='cuda')"
   ]
  }
 ],
 "metadata": {
  "kernelspec": {
   "display_name": "Python 3",
   "language": "python",
   "name": "python3"
  },
  "language_info": {
   "codemirror_mode": {
    "name": "ipython",
    "version": 3
   },
   "file_extension": ".py",
   "mimetype": "text/x-python",
   "name": "python",
   "nbconvert_exporter": "python",
   "pygments_lexer": "ipython3",
   "version": "3.12.4"
  }
 },
 "nbformat": 4,
 "nbformat_minor": 2
}
